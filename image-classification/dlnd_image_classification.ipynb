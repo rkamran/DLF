{
 "cells": [
  {
   "cell_type": "markdown",
   "metadata": {
    "collapsed": true
   },
   "source": [
    "# Image Classification\n",
    "In this project, you'll classify images from the [CIFAR-10 dataset](https://www.cs.toronto.edu/~kriz/cifar.html).  The dataset consists of airplanes, dogs, cats, and other objects. You'll preprocess the images, then train a convolutional neural network on all the samples. The images need to be normalized and the labels need to be one-hot encoded.  You'll get to apply what you learned and build a convolutional, max pooling, dropout, and fully connected layers.  At the end, you'll get to see your neural network's predictions on the sample images.\n",
    "## Get the Data\n",
    "Run the following cell to download the [CIFAR-10 dataset for python](https://www.cs.toronto.edu/~kriz/cifar-10-python.tar.gz)."
   ]
  },
  {
   "cell_type": "code",
   "execution_count": 1,
   "metadata": {
    "collapsed": false
   },
   "outputs": [
    {
     "name": "stdout",
     "output_type": "stream",
     "text": [
      "All files found!\n"
     ]
    }
   ],
   "source": [
    "\"\"\"\n",
    "DON'T MODIFY ANYTHING IN THIS CELL THAT IS BELOW THIS LINE\n",
    "\"\"\"\n",
    "from urllib.request import urlretrieve\n",
    "from os.path import isfile, isdir\n",
    "from tqdm import tqdm\n",
    "import problem_unittests as tests\n",
    "import tarfile\n",
    "\n",
    "cifar10_dataset_folder_path = 'cifar-10-batches-py'\n",
    "\n",
    "# Use Floyd's cifar-10 dataset if present\n",
    "floyd_cifar10_location = '/input/cifar-10/python.tar.gz'\n",
    "if isfile(floyd_cifar10_location):\n",
    "    tar_gz_path = floyd_cifar10_location\n",
    "else:\n",
    "    tar_gz_path = 'cifar-10-python.tar.gz'\n",
    "\n",
    "class DLProgress(tqdm):\n",
    "    last_block = 0\n",
    "\n",
    "    def hook(self, block_num=1, block_size=1, total_size=None):\n",
    "        self.total = total_size\n",
    "        self.update((block_num - self.last_block) * block_size)\n",
    "        self.last_block = block_num\n",
    "\n",
    "if not isfile(tar_gz_path):\n",
    "    with DLProgress(unit='B', unit_scale=True, miniters=1, desc='CIFAR-10 Dataset') as pbar:\n",
    "        urlretrieve(\n",
    "            'https://www.cs.toronto.edu/~kriz/cifar-10-python.tar.gz',\n",
    "            tar_gz_path,\n",
    "            pbar.hook)\n",
    "\n",
    "if not isdir(cifar10_dataset_folder_path):\n",
    "    with tarfile.open(tar_gz_path) as tar:\n",
    "        tar.extractall()\n",
    "        tar.close()\n",
    "\n",
    "\n",
    "tests.test_folder_path(cifar10_dataset_folder_path)"
   ]
  },
  {
   "cell_type": "markdown",
   "metadata": {},
   "source": [
    "## Explore the Data\n",
    "The dataset is broken into batches to prevent your machine from running out of memory.  The CIFAR-10 dataset consists of 5 batches, named `data_batch_1`, `data_batch_2`, etc.. Each batch contains the labels and images that are one of the following:\n",
    "* airplane\n",
    "* automobile\n",
    "* bird\n",
    "* cat\n",
    "* deer\n",
    "* dog\n",
    "* frog\n",
    "* horse\n",
    "* ship\n",
    "* truck\n",
    "\n",
    "Understanding a dataset is part of making predictions on the data.  Play around with the code cell below by changing the `batch_id` and `sample_id`. The `batch_id` is the id for a batch (1-5). The `sample_id` is the id for a image and label pair in the batch.\n",
    "\n",
    "Ask yourself \"What are all possible labels?\", \"What is the range of values for the image data?\", \"Are the labels in order or random?\".  Answers to questions like these will help you preprocess the data and end up with better predictions."
   ]
  },
  {
   "cell_type": "code",
   "execution_count": 2,
   "metadata": {
    "collapsed": false
   },
   "outputs": [
    {
     "name": "stdout",
     "output_type": "stream",
     "text": [
      "\n",
      "Stats of batch 1:\n",
      "Samples: 10000\n",
      "Label Counts: {0: 1005, 1: 974, 2: 1032, 3: 1016, 4: 999, 5: 937, 6: 1030, 7: 1001, 8: 1025, 9: 981}\n",
      "First 20 Labels: [6, 9, 9, 4, 1, 1, 2, 7, 8, 3, 4, 7, 7, 2, 9, 9, 9, 3, 2, 6]\n",
      "\n",
      "Example of Image 5:\n",
      "Image - Min Value: 0 Max Value: 252\n",
      "Image - Shape: (32, 32, 3)\n",
      "Label - Label Id: 1 Name: automobile\n"
     ]
    },
    {
     "data": {
      "image/png": "[encoded data removed]",
      "text/plain": [
       "<matplotlib.figure.Figure at 0x119ca56a0>"
      ]
     },
     "metadata": {
      "image/png": {
       "height": 250,
       "width": 253
      }
     },
     "output_type": "display_data"
    }
   ],
   "source": [
    "%matplotlib inline\n",
    "%config InlineBackend.figure_format = 'retina'\n",
    "\n",
    "import helper\n",
    "import numpy as np\n",
    "\n",
    "# Explore the dataset\n",
    "batch_id = 1\n",
    "sample_id = 5\n",
    "helper.display_stats(cifar10_dataset_folder_path, batch_id, sample_id)"
   ]
  },
  {
   "cell_type": "markdown",
   "metadata": {},
   "source": [
    "## Implement Preprocess Functions\n",
    "### Normalize\n",
    "In the cell below, implement the `normalize` function to take in image data, `x`, and return it as a normalized Numpy array. The values should be in the range of 0 to 1, inclusive.  The return object should be the same shape as `x`."
   ]
  },
  {
   "cell_type": "code",
   "execution_count": 3,
   "metadata": {
    "collapsed": false
   },
   "outputs": [
    {
     "name": "stdout",
     "output_type": "stream",
     "text": [
      "Tests Passed\n"
     ]
    }
   ],
   "source": [
    "def normalize(x):\n",
    "    \"\"\"\n",
    "    Normalize a list of sample image data in the range of 0 to 1\n",
    "    : x: List of image data.  The image shape is (32, 32, 3)\n",
    "    : return: Numpy array of normalize data\n",
    "    \"\"\"\n",
    "    # TODO: Implement Function\n",
    "    return np.float32(x)/255\n",
    "\n",
    "\n",
    "\"\"\"\n",
    "DON'T MODIFY ANYTHING IN THIS CELL THAT IS BELOW THIS LINE\n",
    "\"\"\"\n",
    "tests.test_normalize(normalize)"
   ]
  },
  {
   "cell_type": "markdown",
   "metadata": {},
   "source": [
    "### One-hot encode\n",
    "Just like the previous code cell, you'll be implementing a function for preprocessing.  This time, you'll implement the `one_hot_encode` function. The input, `x`, are a list of labels.  Implement the function to return the list of labels as One-Hot encoded Numpy array.  The possible values for labels are 0 to 9. The one-hot encoding function should return the same encoding for each value between each call to `one_hot_encode`.  Make sure to save the map of encodings outside the function.\n",
    "\n",
    "Hint: Don't reinvent the wheel."
   ]
  },
  {
   "cell_type": "code",
   "execution_count": 4,
   "metadata": {
    "collapsed": false
   },
   "outputs": [
    {
     "name": "stdout",
     "output_type": "stream",
     "text": [
      "Tests Passed\n"
     ]
    }
   ],
   "source": [
    "def one_hot_encode(x):\n",
    "    \"\"\"\n",
    "    One hot encode a list of sample labels. Return a one-hot encoded vector for each label.\n",
    "    : x: List of sample Labels\n",
    "    : return: Numpy array of one-hot encoded labels\n",
    "    \"\"\"\n",
    "    # TODO: Implement Function\n",
    "    one_hot = np.zeros((len(x), 10))\n",
    "    for i, index in enumerate(x):\n",
    "        one_hot[i][index] = 1\n",
    "\n",
    "    return one_hot\n",
    "\n",
    "\"\"\"\n",
    "DON'T MODIFY ANYTHING IN THIS CELL THAT IS BELOW THIS LINE\n",
    "\"\"\"\n",
    "tests.test_one_hot_encode(one_hot_encode)"
   ]
  },
  {
   "cell_type": "markdown",
   "metadata": {},
   "source": [
    "### Randomize Data\n",
    "As you saw from exploring the data above, the order of the samples are randomized.  It doesn't hurt to randomize it again, but you don't need to for this dataset."
   ]
  },
  {
   "cell_type": "markdown",
   "metadata": {},
   "source": [
    "## Preprocess all the data and save it\n",
    "Running the code cell below will preprocess all the CIFAR-10 data and save it to file. The code below also uses 10% of the training data for validation."
   ]
  },
  {
   "cell_type": "code",
   "execution_count": 5,
   "metadata": {
    "collapsed": false
   },
   "outputs": [],
   "source": [
    "\"\"\"\n",
    "DON'T MODIFY ANYTHING IN THIS CELL\n",
    "\"\"\"\n",
    "# Preprocess Training, Validation, and Testing Data\n",
    "helper.preprocess_and_save_data(cifar10_dataset_folder_path, normalize, one_hot_encode)"
   ]
  },
  {
   "cell_type": "markdown",
   "metadata": {},
   "source": [
    "# Check Point\n",
    "This is your first checkpoint.  If you ever decide to come back to this notebook or have to restart the notebook, you can start from here.  The preprocessed data has been saved to disk."
   ]
  },
  {
   "cell_type": "code",
   "execution_count": 6,
   "metadata": {
    "collapsed": true
   },
   "outputs": [],
   "source": [
    "\"\"\"\n",
    "DON'T MODIFY ANYTHING IN THIS CELL\n",
    "\"\"\"\n",
    "import pickle\n",
    "import problem_unittests as tests\n",
    "import helper\n",
    "\n",
    "# Load the Preprocessed Validation data\n",
    "valid_features, valid_labels = pickle.load(open('preprocess_validation.p', mode='rb'))"
   ]
  },
  {
   "cell_type": "markdown",
   "metadata": {},
   "source": [
    "## Build the network\n",
    "For the neural network, you'll build each layer into a function.  Most of the code you've seen has been outside of functions. To test your code more thoroughly, we require that you put each layer in a function.  This allows us to give you better feedback and test for simple mistakes using our unittests before you submit your project.\n",
    "\n",
    ">**Note:** If you're finding it hard to dedicate enough time for this course each week, we've provided a small shortcut to this part of the project. In the next couple of problems, you'll have the option to use classes from the [TensorFlow Layers](https://www.tensorflow.org/api_docs/python/tf/layers) or [TensorFlow Layers (contrib)](https://www.tensorflow.org/api_guides/python/contrib.layers) packages to build each layer, except the layers you build in the \"Convolutional and Max Pooling Layer\" section.  TF Layers is similar to Keras's and TFLearn's abstraction to layers, so it's easy to pickup.\n",
    "\n",
    ">However, if you would like to get the most out of this course, try to solve all the problems _without_ using anything from the TF Layers packages. You **can** still use classes from other packages that happen to have the same name as ones you find in TF Layers! For example, instead of using the TF Layers version of the `conv2d` class, [tf.layers.conv2d](https://www.tensorflow.org/api_docs/python/tf/layers/conv2d), you would want to use the TF Neural Network version of `conv2d`, [tf.nn.conv2d](https://www.tensorflow.org/api_docs/python/tf/nn/conv2d). \n",
    "\n",
    "Let's begin!\n",
    "\n",
    "### Input\n",
    "The neural network needs to read the image data, one-hot encoded labels, and dropout keep probability. Implement the following functions\n",
    "* Implement `neural_net_image_input`\n",
    " * Return a [TF Placeholder](https://www.tensorflow.org/api_docs/python/tf/placeholder)\n",
    " * Set the shape using `image_shape` with batch size set to `None`.\n",
    " * Name the TensorFlow placeholder \"x\" using the TensorFlow `name` parameter in the [TF Placeholder](https://www.tensorflow.org/api_docs/python/tf/placeholder).\n",
    "* Implement `neural_net_label_input`\n",
    " * Return a [TF Placeholder](https://www.tensorflow.org/api_docs/python/tf/placeholder)\n",
    " * Set the shape using `n_classes` with batch size set to `None`.\n",
    " * Name the TensorFlow placeholder \"y\" using the TensorFlow `name` parameter in the [TF Placeholder](https://www.tensorflow.org/api_docs/python/tf/placeholder).\n",
    "* Implement `neural_net_keep_prob_input`\n",
    " * Return a [TF Placeholder](https://www.tensorflow.org/api_docs/python/tf/placeholder) for dropout keep probability.\n",
    " * Name the TensorFlow placeholder \"keep_prob\" using the TensorFlow `name` parameter in the [TF Placeholder](https://www.tensorflow.org/api_docs/python/tf/placeholder).\n",
    "\n",
    "These names will be used at the end of the project to load your saved model.\n",
    "\n",
    "Note: `None` for shapes in TensorFlow allow for a dynamic size."
   ]
  },
  {
   "cell_type": "code",
   "execution_count": 7,
   "metadata": {
    "collapsed": false
   },
   "outputs": [
    {
     "name": "stdout",
     "output_type": "stream",
     "text": [
      "Image Input Tests Passed.\n",
      "Label Input Tests Passed.\n",
      "Keep Prob Tests Passed.\n"
     ]
    }
   ],
   "source": [
    "import tensorflow as tf\n",
    "\n",
    "def neural_net_image_input(image_shape):\n",
    "    \"\"\"\n",
    "    Return a Tensor for a batch of image input\n",
    "    : image_shape: Shape of the images\n",
    "    : return: Tensor for image input.\n",
    "    \"\"\"\n",
    "    # TODO: Implement Function\n",
    "    return tf.placeholder(\"float\", (None, image_shape[0], image_shape[1], image_shape[2]), name=\"x\")\n",
    "\n",
    "\n",
    "def neural_net_label_input(n_classes):\n",
    "    \"\"\"\n",
    "    Return a Tensor for a batch of label input\n",
    "    : n_classes: Number of classes\n",
    "    : return: Tensor for label input.\n",
    "    \"\"\"\n",
    "    # TODO: Implement Function\n",
    "    return tf.placeholder(\"float\", (None, n_classes), name=\"y\")\n",
    "\n",
    "\n",
    "def neural_net_keep_prob_input():\n",
    "    \"\"\"\n",
    "    Return a Tensor for keep probability\n",
    "    : return: Tensor for keep probability.\n",
    "    \"\"\"\n",
    "    # TODO: Implement Function\n",
    "    return tf.placeholder(\"float\", name=\"keep_prob\")\n",
    "\n",
    "\n",
    "\"\"\"\n",
    "DON'T MODIFY ANYTHING IN THIS CELL THAT IS BELOW THIS LINE\n",
    "\"\"\"\n",
    "tf.reset_default_graph()\n",
    "tests.test_nn_image_inputs(neural_net_image_input)\n",
    "tests.test_nn_label_inputs(neural_net_label_input)\n",
    "tests.test_nn_keep_prob_inputs(neural_net_keep_prob_input)"
   ]
  },
  {
   "cell_type": "markdown",
   "metadata": {},
   "source": [
    "### Convolution and Max Pooling Layer\n",
    "Convolution layers have a lot of success with images. For this code cell, you should implement the function `conv2d_maxpool` to apply convolution then max pooling:\n",
    "* Create the weight and bias using `conv_ksize`, `conv_num_outputs` and the shape of `x_tensor`.\n",
    "* Apply a convolution to `x_tensor` using weight and `conv_strides`.\n",
    " * We recommend you use same padding, but you're welcome to use any padding.\n",
    "* Add bias\n",
    "* Add a nonlinear activation to the convolution.\n",
    "* Apply Max Pooling using `pool_ksize` and `pool_strides`.\n",
    " * We recommend you use same padding, but you're welcome to use any padding.\n",
    "\n",
    "**Note:** You **can't** use [TensorFlow Layers](https://www.tensorflow.org/api_docs/python/tf/layers) or [TensorFlow Layers (contrib)](https://www.tensorflow.org/api_guides/python/contrib.layers) for **this** layer, but you can still use TensorFlow's [Neural Network](https://www.tensorflow.org/api_docs/python/tf/nn) package. You may still use the shortcut option for all the **other** layers."
   ]
  },
  {
   "cell_type": "code",
   "execution_count": 8,
   "metadata": {
    "collapsed": false
   },
   "outputs": [
    {
     "name": "stdout",
     "output_type": "stream",
     "text": [
      "Tests Passed\n"
     ]
    }
   ],
   "source": [
    "def conv2d_maxpool(x_tensor, conv_num_outputs, conv_ksize, conv_strides, pool_ksize, pool_strides):\n",
    "    \"\"\"\n",
    "    Apply convolution then max pooling to x_tensor\n",
    "    :param x_tensor: TensorFlow Tensor\n",
    "    :param conv_num_outputs: Number of outputs for the convolutional layer\n",
    "    :param conv_ksize: kernal size 2-D Tuple for the convolutional layer\n",
    "    :param conv_strides: Stride 2-D Tuple for convolution\n",
    "    :param pool_ksize: kernal size 2-D Tuple for pool\n",
    "    :param pool_strides: Stride 2-D Tuple for pool\n",
    "    : return: A tensor that represents convolution and max pooling of x_tensor\n",
    "    \"\"\"\n",
    "    # TODO: Implement Function\n",
    "    weight = tf.Variable(tf.truncated_normal([conv_ksize[0], conv_ksize[1], x_tensor.shape[3].value , conv_num_outputs]))\n",
    "    bias = tf.Variable(tf.truncated_normal([conv_num_outputs]))\n",
    "    conv = tf.nn.conv2d(x_tensor, weight, strides=[1, conv_strides[0], conv_strides[1], 1], padding=\"SAME\")\n",
    "    conv = tf.nn.bias_add(conv, bias)\n",
    "    conv = tf.nn.relu(conv)\n",
    "    conv = tf.nn.max_pool(conv, \n",
    "                          ksize=[1,pool_ksize[0],pool_ksize[1],1],\n",
    "                          strides=[1,pool_strides[0], pool_strides[1],1],\n",
    "                          padding=\"SAME\")\n",
    "    return conv \n",
    "\n",
    "\n",
    "\"\"\"\n",
    "DON'T MODIFY ANYTHING IN THIS CELL THAT IS BELOW THIS LINE\n",
    "\"\"\"\n",
    "tests.test_con_pool(conv2d_maxpool)"
   ]
  },
  {
   "cell_type": "markdown",
   "metadata": {},
   "source": [
    "### Flatten Layer\n",
    "Implement the `flatten` function to change the dimension of `x_tensor` from a 4-D tensor to a 2-D tensor.  The output should be the shape (*Batch Size*, *Flattened Image Size*). Shortcut option: you can use classes from the [TensorFlow Layers](https://www.tensorflow.org/api_docs/python/tf/layers) or [TensorFlow Layers (contrib)](https://www.tensorflow.org/api_guides/python/contrib.layers) packages for this layer. For more of a challenge, only use other TensorFlow packages."
   ]
  },
  {
   "cell_type": "code",
   "execution_count": 9,
   "metadata": {
    "collapsed": false
   },
   "outputs": [
    {
     "name": "stdout",
     "output_type": "stream",
     "text": [
      "Tests Passed\n"
     ]
    }
   ],
   "source": [
    "def flatten(x_tensor):\n",
    "    \"\"\"\n",
    "    Flatten x_tensor to (Batch Size, Flattened Image Size)\n",
    "    : x_tensor: A tensor of size (Batch Size, ...), where ... are the image dimensions.\n",
    "    : return: A tensor of size (Batch Size, Flattened Image Size).\n",
    "    \"\"\"\n",
    "    shape = x_tensor.shape\n",
    "    flatten = tf.reshape(x_tensor, [-1, shape[1].value*shape[2].value*shape[3].value])\n",
    "    return flatten\n",
    "\n",
    "\n",
    "\"\"\"\n",
    "DON'T MODIFY ANYTHING IN THIS CELL THAT IS BELOW THIS LINE\n",
    "\"\"\"\n",
    "tests.test_flatten(flatten)"
   ]
  },
  {
   "cell_type": "markdown",
   "metadata": {},
   "source": [
    "### Fully-Connected Layer\n",
    "Implement the `fully_conn` function to apply a fully connected layer to `x_tensor` with the shape (*Batch Size*, *num_outputs*). Shortcut option: you can use classes from the [TensorFlow Layers](https://www.tensorflow.org/api_docs/python/tf/layers) or [TensorFlow Layers (contrib)](https://www.tensorflow.org/api_guides/python/contrib.layers) packages for this layer. For more of a challenge, only use other TensorFlow packages."
   ]
  },
  {
   "cell_type": "code",
   "execution_count": 10,
   "metadata": {
    "collapsed": false
   },
   "outputs": [
    {
     "name": "stdout",
     "output_type": "stream",
     "text": [
      "Tests Passed\n"
     ]
    }
   ],
   "source": [
    "def fully_conn(x_tensor, num_outputs):\n",
    "    \"\"\"\n",
    "    Apply a fully connected layer to x_tensor using weight and bias\n",
    "    : x_tensor: A 2-D tensor where the first dimension is batch size.\n",
    "    : num_outputs: The number of output that the new tensor should be.\n",
    "    : return: A 2-D tensor where the second dimension is num_outputs.\n",
    "    \"\"\"\n",
    "    weight = tf.Variable(tf.truncated_normal([x_tensor.shape[1].value, num_outputs]))\n",
    "    bias = tf.Variable(tf.truncated_normal([num_outputs]))\n",
    "    fc = tf.add(tf.matmul(x_tensor, weight), bias)\n",
    "    return fc\n",
    "\n",
    "\n",
    "\"\"\"\n",
    "DON'T MODIFY ANYTHING IN THIS CELL THAT IS BELOW THIS LINE\n",
    "\"\"\"\n",
    "tests.test_fully_conn(fully_conn)"
   ]
  },
  {
   "cell_type": "markdown",
   "metadata": {},
   "source": [
    "### Output Layer\n",
    "Implement the `output` function to apply a fully connected layer to `x_tensor` with the shape (*Batch Size*, *num_outputs*). Shortcut option: you can use classes from the [TensorFlow Layers](https://www.tensorflow.org/api_docs/python/tf/layers) or [TensorFlow Layers (contrib)](https://www.tensorflow.org/api_guides/python/contrib.layers) packages for this layer. For more of a challenge, only use other TensorFlow packages.\n",
    "\n",
    "**Note:** Activation, softmax, or cross entropy should **not** be applied to this."
   ]
  },
  {
   "cell_type": "code",
   "execution_count": 11,
   "metadata": {
    "collapsed": false
   },
   "outputs": [
    {
     "name": "stdout",
     "output_type": "stream",
     "text": [
      "Tests Passed\n"
     ]
    }
   ],
   "source": [
    "def output(x_tensor, num_outputs):\n",
    "    \"\"\"\n",
    "    Apply a output layer to x_tensor using weight and bias\n",
    "    : x_tensor: A 2-D tensor where the first dimension is batch size.\n",
    "    : num_outputs: The number of output that the new tensor should be.\n",
    "    : return: A 2-D tensor where the second dimension is num_outputs.\n",
    "    \"\"\"\n",
    "    weight = tf.Variable(tf.truncated_normal([x_tensor.shape[1].value, num_outputs]))\n",
    "    bias = tf.Variable(tf.truncated_normal([num_outputs]))\n",
    "    out = tf.add(tf.matmul(x_tensor, weight), bias)\n",
    "    return out\n",
    "\n",
    "\n",
    "\"\"\"\n",
    "DON'T MODIFY ANYTHING IN THIS CELL THAT IS BELOW THIS LINE\n",
    "\"\"\"\n",
    "tests.test_output(output)"
   ]
  },
  {
   "cell_type": "markdown",
   "metadata": {},
   "source": [
    "### Create Convolutional Model\n",
    "Implement the function `conv_net` to create a convolutional neural network model. The function takes in a batch of images, `x`, and outputs logits.  Use the layers you created above to create this model:\n",
    "\n",
    "* Apply 1, 2, or 3 Convolution and Max Pool layers\n",
    "* Apply a Flatten Layer\n",
    "* Apply 1, 2, or 3 Fully Connected Layers\n",
    "* Apply an Output Layer\n",
    "* Return the output\n",
    "* Apply [TensorFlow's Dropout](https://www.tensorflow.org/api_docs/python/tf/nn/dropout) to one or more layers in the model using `keep_prob`. "
   ]
  },
  {
   "cell_type": "code",
   "execution_count": 12,
   "metadata": {
    "collapsed": false
   },
   "outputs": [
    {
     "name": "stdout",
     "output_type": "stream",
     "text": [
      "Neural Network Built!\n"
     ]
    }
   ],
   "source": [
    "def conv_net(x, keep_prob):\n",
    "    \"\"\"\n",
    "    Create a convolutional neural network model\n",
    "    : x: Placeholder tensor that holds image data.\n",
    "    : keep_prob: Placeholder tensor that hold dropout keep probability.\n",
    "    : return: Tensor that represents logits\n",
    "    \"\"\"\n",
    "    # TODO: Apply 1, 2, or 3 Convolution and Max Pool layers\n",
    "    #    Play around with different number of outputs, kernel size and stride\n",
    "    # Function Definition from Above:\n",
    "    #    conv2d_maxpool(x_tensor, conv_num_outputs, conv_ksize, conv_strides, pool_ksize, pool_strides)\n",
    "    conv1 = conv2d_maxpool(x, 32, (5,5), (1,1), (2,2), (2,2))\n",
    "    conv2 = conv2d_maxpool(conv1, 64, (5,5), (1,1), (2,2), (2,2))\n",
    "\n",
    "    # TODO: Apply a Flatten Layer\n",
    "    # Function Definition from Above:\n",
    "    #   flatten(x_tensor)\n",
    "    flat = flatten(conv2)\n",
    "\n",
    "    # TODO: Apply 1, 2, or 3 Fully Connected Layers\n",
    "    #    Play around with different number of outputs\n",
    "    # Function Definition from Above:\n",
    "    #   fully_conn(x_tensor, num_outputs)\n",
    "    fc = fully_conn(flat, 1024)\n",
    "    fc = tf.nn.dropout(fc, keep_prob)\n",
    "    \n",
    "    # TODO: Apply an Output Layer\n",
    "    #    Set this to the number of classes\n",
    "    # Function Definition from Above:\n",
    "    #   output(x_tensor, num_outputs)\n",
    "    out = output(fc, 10)\n",
    "    \n",
    "    return out\n",
    "\n",
    "\n",
    "\"\"\"\n",
    "DON'T MODIFY ANYTHING IN THIS CELL THAT IS BELOW THIS LINE\n",
    "\"\"\"\n",
    "\n",
    "##############################\n",
    "## Build the Neural Network ##\n",
    "##############################\n",
    "\n",
    "# Remove previous weights, bias, inputs, etc..\n",
    "tf.reset_default_graph()\n",
    "\n",
    "# Inputs\n",
    "x = neural_net_image_input((32, 32, 3))\n",
    "y = neural_net_label_input(10)\n",
    "keep_prob = neural_net_keep_prob_input()\n",
    "\n",
    "# Model\n",
    "logits = conv_net(x, keep_prob)\n",
    "\n",
    "# Name logits Tensor, so that is can be loaded from disk after training\n",
    "logits = tf.identity(logits, name='logits')\n",
    "\n",
    "# Loss and Optimizer\n",
    "cost = tf.reduce_mean(tf.nn.softmax_cross_entropy_with_logits(logits=logits, labels=y))\n",
    "optimizer = tf.train.AdamOptimizer().minimize(cost)\n",
    "\n",
    "# Accuracy\n",
    "correct_pred = tf.equal(tf.argmax(logits, 1), tf.argmax(y, 1))\n",
    "accuracy = tf.reduce_mean(tf.cast(correct_pred, tf.float32), name='accuracy')\n",
    "\n",
    "tests.test_conv_net(conv_net)"
   ]
  },
  {
   "cell_type": "markdown",
   "metadata": {},
   "source": [
    "## Train the Neural Network\n",
    "### Single Optimization\n",
    "Implement the function `train_neural_network` to do a single optimization.  The optimization should use `optimizer` to optimize in `session` with a `feed_dict` of the following:\n",
    "* `x` for image input\n",
    "* `y` for labels\n",
    "* `keep_prob` for keep probability for dropout\n",
    "\n",
    "This function will be called for each batch, so `tf.global_variables_initializer()` has already been called.\n",
    "\n",
    "Note: Nothing needs to be returned. This function is only optimizing the neural network."
   ]
  },
  {
   "cell_type": "code",
   "execution_count": 13,
   "metadata": {
    "collapsed": false
   },
   "outputs": [
    {
     "name": "stdout",
     "output_type": "stream",
     "text": [
      "Tests Passed\n"
     ]
    }
   ],
   "source": [
    "def train_neural_network(session, optimizer, keep_probability, feature_batch, label_batch):\n",
    "    \"\"\"\n",
    "    Optimize the session on a batch of images and labels\n",
    "    : session: Current TensorFlow session\n",
    "    : optimizer: TensorFlow optimizer function\n",
    "    : keep_probability: keep probability\n",
    "    : feature_batch: Batch of Numpy image data\n",
    "    : label_batch: Batch of Numpy label data\n",
    "    \"\"\"\n",
    "    # TODO: Implement Function\n",
    "    session.run(optimizer, feed_dict={x: feature_batch, y: label_batch, keep_prob:keep_probability})\n",
    "\n",
    "\n",
    "\"\"\"\n",
    "DON'T MODIFY ANYTHING IN THIS CELL THAT IS BELOW THIS LINE\n",
    "\"\"\"\n",
    "tests.test_train_nn(train_neural_network)"
   ]
  },
  {
   "cell_type": "markdown",
   "metadata": {},
   "source": [
    "### Show Stats\n",
    "Implement the function `print_stats` to print loss and validation accuracy.  Use the global variables `valid_features` and `valid_labels` to calculate validation accuracy.  Use a keep probability of `1.0` to calculate the loss and validation accuracy."
   ]
  },
  {
   "cell_type": "code",
   "execution_count": 14,
   "metadata": {
    "collapsed": false
   },
   "outputs": [],
   "source": [
    "def print_stats(session, feature_batch, label_batch, cost, accuracy):\n",
    "    \"\"\"\n",
    "    Print information about loss and validation accuracy\n",
    "    : session: Current TensorFlow session\n",
    "    : feature_batch: Batch of Numpy image data\n",
    "    : label_batch: Batch of Numpy label data\n",
    "    : cost: TensorFlow cost function\n",
    "    : accuracy: TensorFlow accuracy function\n",
    "    \"\"\"\n",
    "    c = session.run(cost, feed_dict={x: feature_batch, y:label_batch, keep_prob:1.0})\n",
    "    ac = session.run(cost, feed_dict={x: valid_features, y:valid_labels, keep_prob:1.0})\n",
    "    print(\"\\nCost: {0} --- Accuracy: {1}\".format(c, ac))"
   ]
  },
  {
   "cell_type": "markdown",
   "metadata": {},
   "source": [
    "### Hyperparameters\n",
    "Tune the following parameters:\n",
    "* Set `epochs` to the number of iterations until the network stops learning or start overfitting\n",
    "* Set `batch_size` to the highest number that your machine has memory for.  Most people set them to common sizes of memory:\n",
    " * 64\n",
    " * 128\n",
    " * 256\n",
    " * ...\n",
    "* Set `keep_probability` to the probability of keeping a node using dropout"
   ]
  },
  {
   "cell_type": "code",
   "execution_count": 15,
   "metadata": {
    "collapsed": true
   },
   "outputs": [],
   "source": [
    "# TODO: Tune Parameters\n",
    "epochs = 20\n",
    "batch_size = 128\n",
    "keep_probability = 0.4"
   ]
  },
  {
   "cell_type": "markdown",
   "metadata": {},
   "source": [
    "### Train on a Single CIFAR-10 Batch\n",
    "Instead of training the neural network on all the CIFAR-10 batches of data, let's use a single batch. This should save time while you iterate on the model to get a better accuracy.  Once the final validation accuracy is 50% or greater, run the model on all the data in the next section."
   ]
  },
  {
   "cell_type": "code",
   "execution_count": 16,
   "metadata": {
    "collapsed": false
   },
   "outputs": [
    {
     "name": "stdout",
     "output_type": "stream",
     "text": [
      "Checking the Training on a Single Batch...\n",
      "Epoch  1, CIFAR-10 Batch 1:  \n",
      "Cost: 24485.41015625 --- Accuracy: 16238.0302734375\n",
      "Epoch  2, CIFAR-10 Batch 1:  \n",
      "Cost: 11624.779296875 --- Accuracy: 9438.0751953125\n",
      "Epoch  3, CIFAR-10 Batch 1:  \n",
      "Cost: 6435.4482421875 --- Accuracy: 6005.97119140625\n",
      "Epoch  4, CIFAR-10 Batch 1:  \n",
      "Cost: 3227.79443359375 --- Accuracy: 3685.385986328125\n",
      "Epoch  5, CIFAR-10 Batch 1:  \n",
      "Cost: 2088.91162109375 --- Accuracy: 2318.9599609375\n",
      "Epoch  6, CIFAR-10 Batch 1:  \n",
      "Cost: 1503.49853515625 --- Accuracy: 1402.3861083984375\n",
      "Epoch  7, CIFAR-10 Batch 1:  \n",
      "Cost: 914.6175537109375 --- Accuracy: 842.8621215820312\n",
      "Epoch  8, CIFAR-10 Batch 1:  \n",
      "Cost: 482.6005859375 --- Accuracy: 526.6242065429688\n",
      "Epoch  9, CIFAR-10 Batch 1:  \n",
      "Cost: 287.88763427734375 --- Accuracy: 351.4922790527344\n",
      "Epoch 10, CIFAR-10 Batch 1:  \n",
      "Cost: 210.66708374023438 --- Accuracy: 248.01177978515625\n",
      "Epoch 11, CIFAR-10 Batch 1:  \n",
      "Cost: 142.4257049560547 --- Accuracy: 183.734375\n",
      "Epoch 12, CIFAR-10 Batch 1:  \n",
      "Cost: 105.1924819946289 --- Accuracy: 143.53509521484375\n",
      "Epoch 13, CIFAR-10 Batch 1:  \n",
      "Cost: 77.20284271240234 --- Accuracy: 114.12993621826172\n",
      "Epoch 14, CIFAR-10 Batch 1:  \n",
      "Cost: 48.77158737182617 --- Accuracy: 92.66277313232422\n",
      "Epoch 15, CIFAR-10 Batch 1:  \n",
      "Cost: 36.01319885253906 --- Accuracy: 77.45037841796875\n",
      "Epoch 16, CIFAR-10 Batch 1:  \n",
      "Cost: 28.905675888061523 --- Accuracy: 65.29916381835938\n",
      "Epoch 17, CIFAR-10 Batch 1:  \n",
      "Cost: 23.928752899169922 --- Accuracy: 55.46652603149414\n",
      "Epoch 18, CIFAR-10 Batch 1:  \n",
      "Cost: 20.229022979736328 --- Accuracy: 47.644081115722656\n",
      "Epoch 19, CIFAR-10 Batch 1:  \n",
      "Cost: 16.597087860107422 --- Accuracy: 41.23516082763672\n",
      "Epoch 20, CIFAR-10 Batch 1:  \n",
      "Cost: 15.136907577514648 --- Accuracy: 36.28116226196289\n"
     ]
    }
   ],
   "source": [
    "\"\"\"\n",
    "DON'T MODIFY ANYTHING IN THIS CELL\n",
    "\"\"\"\n",
    "print('Checking the Training on a Single Batch...')\n",
    "with tf.Session() as sess:\n",
    "    # Initializing the variables\n",
    "    sess.run(tf.global_variables_initializer())\n",
    "    \n",
    "    # Training cycle\n",
    "    for epoch in range(epochs):\n",
    "        batch_i = 1\n",
    "        for batch_features, batch_labels in helper.load_preprocess_training_batch(batch_i, batch_size):\n",
    "            train_neural_network(sess, optimizer, keep_probability, batch_features, batch_labels)\n",
    "        print('Epoch {:>2}, CIFAR-10 Batch {}:  '.format(epoch + 1, batch_i), end='')\n",
    "        print_stats(sess, batch_features, batch_labels, cost, accuracy)"
   ]
  },
  {
   "cell_type": "markdown",
   "metadata": {},
   "source": [
    "### Fully Train the Model\n",
    "Now that you got a good accuracy with a single CIFAR-10 batch, try it with all five batches."
   ]
  },
  {
   "cell_type": "code",
   "execution_count": 17,
   "metadata": {
    "collapsed": false
   },
   "outputs": [
    {
     "name": "stdout",
     "output_type": "stream",
     "text": [
      "Training...\n",
      "Epoch  1, CIFAR-10 Batch 1:  \n",
      "Cost: 20100.65625 --- Accuracy: 18291.611328125\n",
      "Epoch  1, CIFAR-10 Batch 2:  \n",
      "Cost: 12154.029296875 --- Accuracy: 10274.4130859375\n",
      "Epoch  1, CIFAR-10 Batch 3:  \n",
      "Cost: 5984.28125 --- Accuracy: 5908.25537109375\n",
      "Epoch  1, CIFAR-10 Batch 4:  \n",
      "Cost: 3108.962646484375 --- Accuracy: 3204.0029296875\n",
      "Epoch  1, CIFAR-10 Batch 5:  \n",
      "Cost: 1637.4185791015625 --- Accuracy: 1640.6370849609375\n",
      "Epoch  2, CIFAR-10 Batch 1:  \n",
      "Cost: 734.2642822265625 --- Accuracy: 818.42529296875\n",
      "Epoch  2, CIFAR-10 Batch 2:  \n",
      "Cost: 333.7881774902344 --- Accuracy: 423.5975036621094\n",
      "Epoch  2, CIFAR-10 Batch 3:  \n",
      "Cost: 233.0531768798828 --- Accuracy: 253.8603515625\n",
      "Epoch  2, CIFAR-10 Batch 4:  \n",
      "Cost: 197.30267333984375 --- Accuracy: 167.32447814941406\n",
      "Epoch  2, CIFAR-10 Batch 5:  \n",
      "Cost: 51.909584045410156 --- Accuracy: 119.00272369384766\n",
      "Epoch  3, CIFAR-10 Batch 1:  \n",
      "Cost: 36.273189544677734 --- Accuracy: 89.6246566772461\n",
      "Epoch  3, CIFAR-10 Batch 2:  \n",
      "Cost: 62.98987579345703 --- Accuracy: 69.48609924316406\n",
      "Epoch  3, CIFAR-10 Batch 3:  \n",
      "Cost: 32.28943634033203 --- Accuracy: 56.20225143432617\n",
      "Epoch  3, CIFAR-10 Batch 4:  \n",
      "Cost: 72.18434143066406 --- Accuracy: 46.38895797729492\n",
      "Epoch  3, CIFAR-10 Batch 5:  \n",
      "Cost: 12.060065269470215 --- Accuracy: 39.957454681396484\n",
      "Epoch  4, CIFAR-10 Batch 1:  \n",
      "Cost: 8.27357006072998 --- Accuracy: 34.29903030395508\n",
      "Epoch  4, CIFAR-10 Batch 2:  \n",
      "Cost: 27.2509765625 --- Accuracy: 29.916950225830078\n",
      "Epoch  4, CIFAR-10 Batch 3:  \n",
      "Cost: 7.44057559967041 --- Accuracy: 25.835044860839844\n",
      "Epoch  4, CIFAR-10 Batch 4:  \n",
      "Cost: 36.37023162841797 --- Accuracy: 22.84945297241211\n",
      "Epoch  4, CIFAR-10 Batch 5:  \n",
      "Cost: 4.44442081451416 --- Accuracy: 20.337268829345703\n",
      "Epoch  5, CIFAR-10 Batch 1:  \n",
      "Cost: 2.8850975036621094 --- Accuracy: 18.295358657836914\n",
      "Epoch  5, CIFAR-10 Batch 2:  \n",
      "Cost: 12.210456848144531 --- Accuracy: 16.343830108642578\n",
      "Epoch  5, CIFAR-10 Batch 3:  \n",
      "Cost: 3.560824155807495 --- Accuracy: 14.863092422485352\n",
      "Epoch  5, CIFAR-10 Batch 4:  \n",
      "Cost: 18.785303115844727 --- Accuracy: 13.544554710388184\n",
      "Epoch  5, CIFAR-10 Batch 5:  \n",
      "Cost: 2.961383819580078 --- Accuracy: 12.451189041137695\n",
      "Epoch  6, CIFAR-10 Batch 1:  \n",
      "Cost: 2.5184855461120605 --- Accuracy: 11.357759475708008\n",
      "Epoch  6, CIFAR-10 Batch 2:  \n",
      "Cost: 8.549833297729492 --- Accuracy: 10.429912567138672\n",
      "Epoch  6, CIFAR-10 Batch 3:  \n",
      "Cost: 4.329943656921387 --- Accuracy: 9.682805061340332\n",
      "Epoch  6, CIFAR-10 Batch 4:  \n",
      "Cost: 11.302696228027344 --- Accuracy: 9.194446563720703\n",
      "Epoch  6, CIFAR-10 Batch 5:  \n",
      "Cost: 2.4544525146484375 --- Accuracy: 8.571098327636719\n",
      "Epoch  7, CIFAR-10 Batch 1:  \n",
      "Cost: 2.4252898693084717 --- Accuracy: 8.140715599060059\n",
      "Epoch  7, CIFAR-10 Batch 2:  \n",
      "Cost: 5.375258445739746 --- Accuracy: 7.608193874359131\n",
      "Epoch  7, CIFAR-10 Batch 3:  \n",
      "Cost: 3.872605800628662 --- Accuracy: 7.434495449066162\n",
      "Epoch  7, CIFAR-10 Batch 4:  \n",
      "Cost: 5.800561904907227 --- Accuracy: 6.978426456451416\n",
      "Epoch  7, CIFAR-10 Batch 5:  \n",
      "Cost: 2.37398099899292 --- Accuracy: 6.6350860595703125\n",
      "Epoch  8, CIFAR-10 Batch 1:  \n",
      "Cost: 2.493333101272583 --- Accuracy: 6.450741767883301\n",
      "Epoch  8, CIFAR-10 Batch 2:  \n",
      "Cost: 3.120150566101074 --- Accuracy: 6.114504814147949\n",
      "Epoch  8, CIFAR-10 Batch 3:  \n",
      "Cost: 3.3377480506896973 --- Accuracy: 5.945307731628418\n",
      "Epoch  8, CIFAR-10 Batch 4:  \n",
      "Cost: 4.892966270446777 --- Accuracy: 5.62907075881958\n",
      "Epoch  8, CIFAR-10 Batch 5:  \n",
      "Cost: 2.376570463180542 --- Accuracy: 5.363582134246826\n",
      "Epoch  9, CIFAR-10 Batch 1:  \n",
      "Cost: 2.4562201499938965 --- Accuracy: 5.267698287963867\n",
      "Epoch  9, CIFAR-10 Batch 2:  \n",
      "Cost: 2.3607521057128906 --- Accuracy: 4.891396999359131\n",
      "Epoch  9, CIFAR-10 Batch 3:  \n",
      "Cost: 2.867457389831543 --- Accuracy: 4.842668533325195\n",
      "Epoch  9, CIFAR-10 Batch 4:  \n",
      "Cost: 3.9409279823303223 --- Accuracy: 4.5756072998046875\n",
      "Epoch  9, CIFAR-10 Batch 5:  \n",
      "Cost: 2.385615587234497 --- Accuracy: 4.462242126464844\n",
      "Epoch 10, CIFAR-10 Batch 1:  \n",
      "Cost: 2.3850181102752686 --- Accuracy: 4.331878662109375\n",
      "Epoch 10, CIFAR-10 Batch 2:  \n",
      "Cost: 2.237347364425659 --- Accuracy: 4.181448459625244\n",
      "Epoch 10, CIFAR-10 Batch 3:  \n",
      "Cost: 2.35154390335083 --- Accuracy: 4.144713878631592\n",
      "Epoch 10, CIFAR-10 Batch 4:  \n",
      "Cost: 3.108710765838623 --- Accuracy: 3.9645848274230957\n",
      "Epoch 10, CIFAR-10 Batch 5:  \n",
      "Cost: 2.3298656940460205 --- Accuracy: 3.9112863540649414\n",
      "Epoch 11, CIFAR-10 Batch 1:  \n",
      "Cost: 2.305919647216797 --- Accuracy: 3.814474105834961\n",
      "Epoch 11, CIFAR-10 Batch 2:  \n",
      "Cost: 2.2252323627471924 --- Accuracy: 3.7390596866607666\n",
      "Epoch 11, CIFAR-10 Batch 3:  \n",
      "Cost: 2.2617344856262207 --- Accuracy: 3.6803178787231445\n",
      "Epoch 11, CIFAR-10 Batch 4:  \n",
      "Cost: 2.3992817401885986 --- Accuracy: 3.5693016052246094\n",
      "Epoch 11, CIFAR-10 Batch 5:  \n",
      "Cost: 2.299675941467285 --- Accuracy: 3.5126280784606934\n",
      "Epoch 12, CIFAR-10 Batch 1:  \n",
      "Cost: 2.2983617782592773 --- Accuracy: 3.4397757053375244\n",
      "Epoch 12, CIFAR-10 Batch 2:  \n",
      "Cost: 2.279003143310547 --- Accuracy: 3.3932011127471924\n",
      "Epoch 12, CIFAR-10 Batch 3:  \n",
      "Cost: 2.2361555099487305 --- Accuracy: 3.3410258293151855\n",
      "Epoch 12, CIFAR-10 Batch 4:  \n",
      "Cost: 2.3232645988464355 --- Accuracy: 3.286439895629883\n",
      "Epoch 12, CIFAR-10 Batch 5:  \n",
      "Cost: 2.298875331878662 --- Accuracy: 3.257894515991211\n",
      "Epoch 13, CIFAR-10 Batch 1:  \n",
      "Cost: 2.3072829246520996 --- Accuracy: 3.240631580352783\n",
      "Epoch 13, CIFAR-10 Batch 2:  \n",
      "Cost: 2.26896071434021 --- Accuracy: 3.227942705154419\n",
      "Epoch 13, CIFAR-10 Batch 3:  \n",
      "Cost: 2.2329773902893066 --- Accuracy: 3.2045109272003174\n",
      "Epoch 13, CIFAR-10 Batch 4:  \n",
      "Cost: 2.2901577949523926 --- Accuracy: 3.153080463409424\n",
      "Epoch 13, CIFAR-10 Batch 5:  \n",
      "Cost: 2.2985174655914307 --- Accuracy: 3.1080565452575684\n",
      "Epoch 14, CIFAR-10 Batch 1:  \n",
      "Cost: 2.308661699295044 --- Accuracy: 3.0809483528137207\n",
      "Epoch 14, CIFAR-10 Batch 2:  \n",
      "Cost: 2.2656478881835938 --- Accuracy: 3.07363224029541\n",
      "Epoch 14, CIFAR-10 Batch 3:  \n",
      "Cost: 2.2385096549987793 --- Accuracy: 3.06062912940979\n",
      "Epoch 14, CIFAR-10 Batch 4:  \n",
      "Cost: 2.324598789215088 --- Accuracy: 3.051377296447754\n",
      "Epoch 14, CIFAR-10 Batch 5:  \n",
      "Cost: 2.3009579181671143 --- Accuracy: 3.029526472091675\n",
      "Epoch 15, CIFAR-10 Batch 1:  \n",
      "Cost: 2.310516595840454 --- Accuracy: 2.9968202114105225\n",
      "Epoch 15, CIFAR-10 Batch 2:  \n",
      "Cost: 2.273189067840576 --- Accuracy: 2.994807243347168\n",
      "Epoch 15, CIFAR-10 Batch 3:  \n",
      "Cost: 2.237166404724121 --- Accuracy: 2.98751163482666\n",
      "Epoch 15, CIFAR-10 Batch 4:  \n",
      "Cost: 2.320427656173706 --- Accuracy: 2.954371929168701\n",
      "Epoch 15, CIFAR-10 Batch 5:  \n",
      "Cost: 2.3021657466888428 --- Accuracy: 2.936497688293457\n",
      "Epoch 16, CIFAR-10 Batch 1:  \n",
      "Cost: 2.3120357990264893 --- Accuracy: 2.924301862716675\n",
      "Epoch 16, CIFAR-10 Batch 2:  \n",
      "Cost: 2.2647266387939453 --- Accuracy: 2.913508892059326\n",
      "Epoch 16, CIFAR-10 Batch 3:  \n",
      "Cost: 2.274503707885742 --- Accuracy: 2.880964756011963\n",
      "Epoch 16, CIFAR-10 Batch 4:  \n",
      "Cost: 2.325449228286743 --- Accuracy: 2.8651084899902344\n",
      "Epoch 16, CIFAR-10 Batch 5:  \n",
      "Cost: 2.3017616271972656 --- Accuracy: 2.8526997566223145\n",
      "Epoch 17, CIFAR-10 Batch 1:  \n",
      "Cost: 2.3100945949554443 --- Accuracy: 2.8257100582122803\n",
      "Epoch 17, CIFAR-10 Batch 2:  \n",
      "Cost: 2.267853021621704 --- Accuracy: 2.8289504051208496\n",
      "Epoch 17, CIFAR-10 Batch 3:  \n",
      "Cost: 2.2810511589050293 --- Accuracy: 2.806485414505005\n",
      "Epoch 17, CIFAR-10 Batch 4:  \n",
      "Cost: 2.320718765258789 --- Accuracy: 2.8032777309417725\n",
      "Epoch 17, CIFAR-10 Batch 5:  \n",
      "Cost: 2.304635524749756 --- Accuracy: 2.80615234375\n",
      "Epoch 18, CIFAR-10 Batch 1:  \n",
      "Cost: 2.3123786449432373 --- Accuracy: 2.807966709136963\n",
      "Epoch 18, CIFAR-10 Batch 2:  \n",
      "Cost: 2.2688400745391846 --- Accuracy: 2.7974865436553955\n",
      "Epoch 18, CIFAR-10 Batch 3:  \n",
      "Cost: 2.286285877227783 --- Accuracy: 2.766730546951294\n",
      "Epoch 18, CIFAR-10 Batch 4:  \n",
      "Cost: 2.328561305999756 --- Accuracy: 2.756286382675171\n",
      "Epoch 18, CIFAR-10 Batch 5:  \n",
      "Cost: 2.301248073577881 --- Accuracy: 2.7449193000793457\n",
      "Epoch 19, CIFAR-10 Batch 1:  \n",
      "Cost: 2.312851667404175 --- Accuracy: 2.7575843334198\n",
      "Epoch 19, CIFAR-10 Batch 2:  \n",
      "Cost: 2.2622628211975098 --- Accuracy: 2.75451922416687\n",
      "Epoch 19, CIFAR-10 Batch 3:  \n",
      "Cost: 2.280714750289917 --- Accuracy: 2.714205741882324\n",
      "Epoch 19, CIFAR-10 Batch 4:  \n",
      "Cost: 2.3205361366271973 --- Accuracy: 2.7021617889404297\n",
      "Epoch 19, CIFAR-10 Batch 5:  \n",
      "Cost: 2.3029894828796387 --- Accuracy: 2.6895573139190674\n",
      "Epoch 20, CIFAR-10 Batch 1:  \n",
      "Cost: 2.316068410873413 --- Accuracy: 2.6890695095062256\n",
      "Epoch 20, CIFAR-10 Batch 2:  \n",
      "Cost: 2.2640621662139893 --- Accuracy: 2.693690538406372\n",
      "Epoch 20, CIFAR-10 Batch 3:  \n",
      "Cost: 2.286656141281128 --- Accuracy: 2.6546404361724854\n",
      "Epoch 20, CIFAR-10 Batch 4:  \n",
      "Cost: 2.3288912773132324 --- Accuracy: 2.6524839401245117\n",
      "Epoch 20, CIFAR-10 Batch 5:  \n",
      "Cost: 2.3028979301452637 --- Accuracy: 2.643263816833496\n"
     ]
    }
   ],
   "source": [
    "\"\"\"\n",
    "DON'T MODIFY ANYTHING IN THIS CELL\n",
    "\"\"\"\n",
    "save_model_path = './image_classification'\n",
    "\n",
    "print('Training...')\n",
    "with tf.Session() as sess:\n",
    "    # Initializing the variables\n",
    "    sess.run(tf.global_variables_initializer())\n",
    "    \n",
    "    # Training cycle\n",
    "    for epoch in range(epochs):\n",
    "        # Loop over all batches\n",
    "        n_batches = 5\n",
    "        for batch_i in range(1, n_batches + 1):\n",
    "            for batch_features, batch_labels in helper.load_preprocess_training_batch(batch_i, batch_size):\n",
    "                train_neural_network(sess, optimizer, keep_probability, batch_features, batch_labels)\n",
    "            print('Epoch {:>2}, CIFAR-10 Batch {}:  '.format(epoch + 1, batch_i), end='')\n",
    "            print_stats(sess, batch_features, batch_labels, cost, accuracy)\n",
    "            \n",
    "    # Save Model\n",
    "    saver = tf.train.Saver()\n",
    "    save_path = saver.save(sess, save_model_path)"
   ]
  },
  {
   "cell_type": "markdown",
   "metadata": {},
   "source": [
    "# Checkpoint\n",
    "The model has been saved to disk.\n",
    "## Test Model\n",
    "Test your model against the test dataset.  This will be your final accuracy. You should have an accuracy greater than 50%. If you don't, keep tweaking the model architecture and parameters."
   ]
  },
  {
   "cell_type": "code",
   "execution_count": 19,
   "metadata": {
    "collapsed": false
   },
   "outputs": [
    {
     "name": "stdout",
     "output_type": "stream",
     "text": [
      "Testing Accuracy: 0.10057357594936708\n",
      "\n"
     ]
    },
    {
     "data": {
      "image/png": "[encoded data removed]",
      "text/plain": [
       "<matplotlib.figure.Figure at 0x10abdd7b8>"
      ]
     },
     "metadata": {
      "image/png": {
       "height": 319,
       "width": 355
      }
     },
     "output_type": "display_data"
    }
   ],
   "source": [
    "\"\"\"\n",
    "DON'T MODIFY ANYTHING IN THIS CELL\n",
    "\"\"\"\n",
    "%matplotlib inline\n",
    "%config InlineBackend.figure_format = 'retina'\n",
    "\n",
    "import tensorflow as tf\n",
    "import pickle\n",
    "import helper\n",
    "import random\n",
    "\n",
    "# Set batch size if not already set\n",
    "try:\n",
    "    if batch_size:\n",
    "        pass\n",
    "except NameError:\n",
    "    batch_size = 64\n",
    "\n",
    "save_model_path = './image_classification'\n",
    "n_samples = 4\n",
    "top_n_predictions = 3\n",
    "\n",
    "def test_model():\n",
    "    \"\"\"\n",
    "    Test the saved model against the test dataset\n",
    "    \"\"\"\n",
    "\n",
    "    test_features, test_labels = pickle.load(open('preprocess_test.p', mode='rb'))\n",
    "    loaded_graph = tf.Graph()\n",
    "\n",
    "    with tf.Session(graph=loaded_graph) as sess:\n",
    "        # Load model\n",
    "        loader = tf.train.import_meta_graph(save_model_path + '.meta')\n",
    "        loader.restore(sess, save_model_path)\n",
    "\n",
    "        # Get Tensors from loaded model\n",
    "        loaded_x = loaded_graph.get_tensor_by_name('x:0')\n",
    "        loaded_y = loaded_graph.get_tensor_by_name('y:0')\n",
    "        loaded_keep_prob = loaded_graph.get_tensor_by_name('keep_prob:0')\n",
    "        loaded_logits = loaded_graph.get_tensor_by_name('logits:0')\n",
    "        loaded_acc = loaded_graph.get_tensor_by_name('accuracy:0')\n",
    "        \n",
    "        # Get accuracy in batches for memory limitations\n",
    "        test_batch_acc_total = 0\n",
    "        test_batch_count = 0\n",
    "        \n",
    "        for test_feature_batch, test_label_batch in helper.batch_features_labels(test_features, test_labels, batch_size):\n",
    "            test_batch_acc_total += sess.run(\n",
    "                loaded_acc,\n",
    "                feed_dict={loaded_x: test_feature_batch, loaded_y: test_label_batch, loaded_keep_prob: 1.0})\n",
    "            test_batch_count += 1\n",
    "\n",
    "        print('Testing Accuracy: {}\\n'.format(test_batch_acc_total/test_batch_count))\n",
    "\n",
    "        # Print Random Samples\n",
    "        random_test_features, random_test_labels = tuple(zip(*random.sample(list(zip(test_features, test_labels)), n_samples)))\n",
    "        random_test_predictions = sess.run(\n",
    "            tf.nn.top_k(tf.nn.softmax(loaded_logits), top_n_predictions),\n",
    "            feed_dict={loaded_x: random_test_features, loaded_y: random_test_labels, loaded_keep_prob: 1.0})\n",
    "        helper.display_image_predictions(random_test_features, random_test_labels, random_test_predictions)\n",
    "\n",
    "\n",
    "test_model()"
   ]
  },
  {
   "cell_type": "markdown",
   "metadata": {},
   "source": [
    "## Why 50-80% Accuracy?\n",
    "You might be wondering why you can't get an accuracy any higher. First things first, 50% isn't bad for a simple CNN.  Pure guessing would get you 10% accuracy. However, you might notice people are getting scores [well above 80%](http://rodrigob.github.io/are_we_there_yet/build/classification_datasets_results.html#43494641522d3130).  That's because we haven't taught you all there is to know about neural networks. We still need to cover a few more techniques.\n",
    "## Submitting This Project\n",
    "When submitting this project, make sure to run all the cells before saving the notebook.  Save the notebook file as \"dlnd_image_classification.ipynb\" and save it as a HTML file under \"File\" -> \"Download as\".  Include the \"helper.py\" and \"problem_unittests.py\" files in your submission."
   ]
  }
 ],
 "metadata": {
  "kernelspec": {
   "display_name": "Python 3",
   "language": "python",
   "name": "python3"
  },
  "language_info": {
   "codemirror_mode": {
    "name": "ipython",
    "version": 3
   },
   "file_extension": ".py",
   "mimetype": "text/x-python",
   "name": "python",
   "nbconvert_exporter": "python",
   "pygments_lexer": "ipython3",
   "version": "3.6.0"
  }
 },
 "nbformat": 4,
 "nbformat_minor": 0
}
